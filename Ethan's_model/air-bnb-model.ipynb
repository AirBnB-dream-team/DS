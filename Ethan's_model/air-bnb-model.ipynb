{
 "cells": [
  {
   "cell_type": "markdown",
   "metadata": {},
   "source": [
    "## Importing libraries and dataset"
   ]
  },
  {
   "cell_type": "code",
   "execution_count": 208,
   "metadata": {},
   "outputs": [],
   "source": [
    "import numpy as np\n",
    "import pandas as pd\n",
    "\n",
    "from sklearn.preprocessing import OneHotEncoder\n",
    "\n",
    "from tensorflow.keras.models import Sequential\n",
    "from tensorflow.keras.layers import Dense\n",
    "from tensorflow.keras.models import load_model\n",
    "from tensorflow.keras.callbacks import EarlyStopping, ModelCheckpoint"
   ]
  },
  {
   "cell_type": "code",
   "execution_count": 209,
   "metadata": {},
   "outputs": [
    {
     "name": "stderr",
     "output_type": "stream",
     "text": [
      "C:\\Users\\PhatDeluxe\\Anaconda3\\envs\\tensor_flow\\lib\\site-packages\\IPython\\core\\interactiveshell.py:3051: DtypeWarning: Columns (43,61,62) have mixed types. Specify dtype option on import or set low_memory=False.\n",
      "  interactivity=interactivity, compiler=compiler, result=result)\n"
     ]
    }
   ],
   "source": [
    "# Importing the 2019 Austen, TX airbnb lisings\n",
    "df = pd.read_csv('./austen_listings.csv')"
   ]
  },
  {
   "cell_type": "markdown",
   "metadata": {},
   "source": [
    "## Cleaning features"
   ]
  },
  {
   "cell_type": "code",
   "execution_count": 210,
   "metadata": {},
   "outputs": [],
   "source": [
    "# These are the features I will be using to make predictions. It makes the most sense to ask users to input these values\n",
    "features = ['bedrooms', 'bathrooms', 'zipcode', 'property_type', 'room_type']\n",
    "df[features] = df[features].fillna(method='ffill')"
   ]
  },
  {
   "cell_type": "code",
   "execution_count": 211,
   "metadata": {},
   "outputs": [],
   "source": [
    "# Price will be the target class. I am removing the $ and , so I can turn it into a float\n",
    "\n",
    "def price_to_float(price):\n",
    "    price = price.replace('$', '')\n",
    "    price = price.replace(',', '')\n",
    "    float(price)\n",
    "    return price\n",
    "\n",
    "df['price'] = df['price'].apply(price_to_float)\n",
    "df['price'] = pd.to_numeric(df['price'])"
   ]
  },
  {
   "cell_type": "code",
   "execution_count": 212,
   "metadata": {},
   "outputs": [],
   "source": [
    "# Zipcode has some weird characters, and I want it as an int so '78702' and 'TX 78702.0' are recognized as the same zipcode\n",
    "def zipcode_to_int(zipcode):\n",
    "    zipcode = str(zipcode)\n",
    "    zipcode = zipcode.replace('TX', '')\n",
    "    zipcode = zipcode.replace(' ', '')\n",
    "    zipcode = zipcode.replace('.0', '')\n",
    "    zipcode = int(zipcode)\n",
    "    return zipcode\n",
    "\n",
    "df['zipcode'] = df['zipcode'].apply(zipcode_to_int)"
   ]
  },
  {
   "cell_type": "markdown",
   "metadata": {},
   "source": [
    "## Encoding categorical features"
   ]
  },
  {
   "cell_type": "code",
   "execution_count": 213,
   "metadata": {},
   "outputs": [],
   "source": [
    "# Separating the numeric and categorical features\n",
    "num_features = ['bedrooms', 'bathrooms'] \n",
    "cat_features = ['zipcode', 'property_type', 'room_type']"
   ]
  },
  {
   "cell_type": "code",
   "execution_count": 214,
   "metadata": {},
   "outputs": [],
   "source": [
    "# Creating seperate dataframes for ease of encoding\n",
    "df_num = df[num_features]\n",
    "df_cat = df[cat_features]"
   ]
  },
  {
   "cell_type": "code",
   "execution_count": 215,
   "metadata": {},
   "outputs": [
    {
     "name": "stderr",
     "output_type": "stream",
     "text": [
      "C:\\Users\\PhatDeluxe\\Anaconda3\\envs\\tensor_flow\\lib\\site-packages\\ipykernel_launcher.py:11: SettingWithCopyWarning: \n",
      "A value is trying to be set on a copy of a slice from a DataFrame.\n",
      "Try using .loc[row_indexer,col_indexer] = value instead\n",
      "\n",
      "See the caveats in the documentation: http://pandas.pydata.org/pandas-docs/stable/user_guide/indexing.html#returning-a-view-versus-a-copy\n",
      "  # This is added back by InteractiveShellApp.init_path()\n"
     ]
    }
   ],
   "source": [
    "# Changing all property types below the top 5 most common types to 'Other'\n",
    "\n",
    "property_type_list = ['House', 'Apartment', 'Condominium', 'Guesthouse', 'Townhouse']\n",
    "\n",
    "def clean_properties(item):\n",
    "    if item not in property_type_list:\n",
    "        return 'Other'\n",
    "    else:\n",
    "        return item\n",
    "\n",
    "df_cat['property_type'] = df_cat['property_type'].apply(clean_properties)"
   ]
  },
  {
   "cell_type": "code",
   "execution_count": 216,
   "metadata": {},
   "outputs": [],
   "source": [
    "# OneHotEncoding the categorical features\n",
    "encoder = OneHotEncoder(categories='auto',)\n",
    "\n",
    "encoded_cat = encoder.fit_transform(df_cat)"
   ]
  },
  {
   "cell_type": "code",
   "execution_count": 217,
   "metadata": {},
   "outputs": [],
   "source": [
    "# Changing it into a numpy array for concatenation\n",
    "encoded_cat_array = encoded_cat.toarray()"
   ]
  },
  {
   "cell_type": "code",
   "execution_count": 218,
   "metadata": {},
   "outputs": [],
   "source": [
    "# Changing the numeric dataframe into a numpy array and concatenating the above array into it\n",
    "num_array = np.array(df_num)\n",
    "\n",
    "final_array = np.concatenate((num_array, encoded_cat_array), axis=1)"
   ]
  },
  {
   "cell_type": "code",
   "execution_count": 219,
   "metadata": {},
   "outputs": [
    {
     "data": {
      "text/plain": [
       "(11250, 65)"
      ]
     },
     "execution_count": 219,
     "metadata": {},
     "output_type": "execute_result"
    }
   ],
   "source": [
    "# Finding out what my input dimensions will be\n",
    "final_array.shape"
   ]
  },
  {
   "cell_type": "markdown",
   "metadata": {},
   "source": [
    "# Final model"
   ]
  },
  {
   "cell_type": "code",
   "execution_count": 220,
   "metadata": {},
   "outputs": [
    {
     "name": "stdout",
     "output_type": "stream",
     "text": [
      "Model: \"sequential_6\"\n",
      "_________________________________________________________________\n",
      "Layer (type)                 Output Shape              Param #   \n",
      "=================================================================\n",
      "dense_15 (Dense)             (None, 65)                4290      \n",
      "_________________________________________________________________\n",
      "dense_16 (Dense)             (None, 32)                2112      \n",
      "_________________________________________________________________\n",
      "dense_17 (Dense)             (None, 1)                 33        \n",
      "=================================================================\n",
      "Total params: 6,435\n",
      "Trainable params: 6,435\n",
      "Non-trainable params: 0\n",
      "_________________________________________________________________\n"
     ]
    }
   ],
   "source": [
    "# Making a sequential neural network with one hidden layer\n",
    "model = Sequential()\n",
    "\n",
    "model.add(Dense(65, input_dim=65, activation='relu'))\n",
    "model.add(Dense(32, activation='relu'))\n",
    "model.add(Dense(1))\n",
    "\n",
    "model.compile(loss='MSE', optimizer='adam', metrics=['mean_squared_error'])\n",
    "\n",
    "model.summary()"
   ]
  },
  {
   "cell_type": "code",
   "execution_count": 221,
   "metadata": {},
   "outputs": [],
   "source": [
    "# Callbacks for early stopping while training\n",
    "callbacks = [EarlyStopping(monitor='val_loss', patience=100),\n",
    "            ModelCheckpoint(filepath='final_model.h5', monitor='val_loss', save_best_only=True)]"
   ]
  },
  {
   "cell_type": "code",
   "execution_count": 223,
   "metadata": {},
   "outputs": [
    {
     "data": {
      "text/plain": [
       "<tensorflow.python.keras.callbacks.History at 0x1ebaa5c33c8>"
      ]
     },
     "execution_count": 223,
     "metadata": {},
     "output_type": "execute_result"
    }
   ],
   "source": [
    "# Training the model\n",
    "model.fit(final_array,\n",
    "          target_array,\n",
    "          epochs=5000, \n",
    "          verbose=0, \n",
    "          validation_split=.1,\n",
    "          callbacks=callbacks)"
   ]
  },
  {
   "cell_type": "code",
   "execution_count": 190,
   "metadata": {},
   "outputs": [
    {
     "data": {
      "text/plain": [
       "array([[363.86542]], dtype=float32)"
      ]
     },
     "execution_count": 190,
     "metadata": {},
     "output_type": "execute_result"
    }
   ],
   "source": [
    "# Testing the predictions of the model\n",
    "test = np.array([final_array[0]])\n",
    "\n",
    "model.predict(test)"
   ]
  },
  {
   "cell_type": "code",
   "execution_count": 33,
   "metadata": {},
   "outputs": [],
   "source": [
    "# Saving the model to be loaded for the flask app\n",
    "model.save('baseline_model.h5')"
   ]
  }
 ],
 "metadata": {
  "kernelspec": {
   "display_name": "Python 3",
   "language": "python",
   "name": "python3"
  },
  "language_info": {
   "codemirror_mode": {
    "name": "ipython",
    "version": 3
   },
   "file_extension": ".py",
   "mimetype": "text/x-python",
   "name": "python",
   "nbconvert_exporter": "python",
   "pygments_lexer": "ipython3",
   "version": "3.7.5"
  }
 },
 "nbformat": 4,
 "nbformat_minor": 4
}
